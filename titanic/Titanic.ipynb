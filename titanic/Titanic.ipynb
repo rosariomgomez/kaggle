{
 "metadata": {
  "name": "Titanic"
 },
 "nbformat": 3,
 "nbformat_minor": 0,
 "worksheets": [
  {
   "cells": [
    {
     "cell_type": "raw",
     "metadata": {},
     "source": [
      "Kaggle 101. Titanic: Machine Learning from disaster"
     ]
    },
    {
     "cell_type": "code",
     "collapsed": false,
     "input": [
      "# Import pylab to provide scientific Python libraries (NumPy, SciPy, Matplotlib)\n",
      "import pylab as p\n",
      "\n",
      "# import the Image display module\n",
      "from IPython.display import Image\n",
      "\n",
      "# inline allows us to embed matplotlib figures directly into the IPython notebook\n",
      "%pylab inline"
     ],
     "language": "python",
     "metadata": {},
     "outputs": [
      {
       "output_type": "stream",
       "stream": "stdout",
       "text": [
        "\n",
        "Welcome to pylab, a matplotlib-based Python environment [backend: module://IPython.zmq.pylab.backend_inline].\n",
        "For more information, type 'help(pylab)'.\n"
       ]
      }
     ],
     "prompt_number": 8
    },
    {
     "cell_type": "code",
     "collapsed": false,
     "input": [
      "%%bash\n",
      "wc csv/train.csv"
     ],
     "language": "python",
     "metadata": {},
     "outputs": [
      {
       "output_type": "stream",
       "stream": "stdout",
       "text": [
        "  892  3900 57726 csv/train.csv\n"
       ]
      }
     ],
     "prompt_number": 9
    },
    {
     "cell_type": "code",
     "collapsed": false,
     "input": [
      "%%bash\n",
      "head -n3 csv/train.csv | column -t -s ','"
     ],
     "language": "python",
     "metadata": {},
     "outputs": [
      {
       "output_type": "stream",
       "stream": "stdout",
       "text": [
        "survived  pclass  name      sex                                           age     sibsp  parch  ticket  fare       cabin    embarked\r\n",
        "0         3       \"Braund    Mr. Owen Harris\"                             male    22     1      0       A/5 21171  7.25     S\r\n",
        "1         1       \"Cumings   Mrs. John Bradley (Florence Briggs Thayer)\"  female  38     1      0       PC 17599   71.2833  C85       C\r\n"
       ]
      }
     ],
     "prompt_number": 10
    },
    {
     "cell_type": "code",
     "collapsed": false,
     "input": [
      "# import pandas library which provides an R like environment for python\n",
      "from pandas import Series, DataFrame\n",
      "\n",
      "import pandas as pd\n",
      "\n",
      "# store relevant file paths in variables since we may use them frequently\n",
      "root_dir = 'csv/'\n",
      "data = root_dir + 'train.csv'\n",
      "\n",
      "# load each file into a Pandas DataFrame, pandas automatically converts the first line into a header for the columns\n",
      "df_passangers = pd.read_csv(data)\n",
      "\n",
      "# inspect the first 10 rows of the DataFrame\n",
      "df_passangers.head()"
     ],
     "language": "python",
     "metadata": {},
     "outputs": [
      {
       "html": [
        "<div style=\"max-height:1000px;max-width:1500px;overflow:auto;\">\n",
        "<table border=\"1\">\n",
        "  <thead>\n",
        "    <tr>\n",
        "      <th></th>\n",
        "      <th>survived</th>\n",
        "      <th>pclass</th>\n",
        "      <th>name</th>\n",
        "      <th>sex</th>\n",
        "      <th>age</th>\n",
        "      <th>sibsp</th>\n",
        "      <th>parch</th>\n",
        "      <th>ticket</th>\n",
        "      <th>fare</th>\n",
        "      <th>cabin</th>\n",
        "      <th>embarked</th>\n",
        "    </tr>\n",
        "    </thead>\n",
        "    <tbody>\n",
        "    <tr>\n",
        "      <td><strong>0</strong></td>\n",
        "      <td> 0</td>\n",
        "      <td> 3</td>\n",
        "      <td>                             Braund, Mr. Owen Harris</td>\n",
        "      <td>   male</td>\n",
        "      <td> 22</td>\n",
        "      <td> 1</td>\n",
        "      <td> 0</td>\n",
        "      <td>        A/5 21171</td>\n",
        "      <td>  7.2500</td>\n",
        "      <td>  NaN</td>\n",
        "      <td> S</td>\n",
        "    </tr>\n",
        "    <tr>\n",
        "      <td><strong>1</strong></td>\n",
        "      <td> 1</td>\n",
        "      <td> 1</td>\n",
        "      <td> Cumings, Mrs. John Bradley (Florence Briggs Thayer)</td>\n",
        "      <td> female</td>\n",
        "      <td> 38</td>\n",
        "      <td> 1</td>\n",
        "      <td> 0</td>\n",
        "      <td>         PC 17599</td>\n",
        "      <td> 71.2833</td>\n",
        "      <td>  C85</td>\n",
        "      <td> C</td>\n",
        "    </tr>\n",
        "    <tr>\n",
        "      <td><strong>2</strong></td>\n",
        "      <td> 1</td>\n",
        "      <td> 3</td>\n",
        "      <td>                              Heikkinen, Miss. Laina</td>\n",
        "      <td> female</td>\n",
        "      <td> 26</td>\n",
        "      <td> 0</td>\n",
        "      <td> 0</td>\n",
        "      <td> STON/O2. 3101282</td>\n",
        "      <td>  7.9250</td>\n",
        "      <td>  NaN</td>\n",
        "      <td> S</td>\n",
        "    </tr>\n",
        "    <tr>\n",
        "      <td><strong>3</strong></td>\n",
        "      <td> 1</td>\n",
        "      <td> 1</td>\n",
        "      <td>        Futrelle, Mrs. Jacques Heath (Lily May Peel)</td>\n",
        "      <td> female</td>\n",
        "      <td> 35</td>\n",
        "      <td> 1</td>\n",
        "      <td> 0</td>\n",
        "      <td>           113803</td>\n",
        "      <td> 53.1000</td>\n",
        "      <td> C123</td>\n",
        "      <td> S</td>\n",
        "    </tr>\n",
        "    <tr>\n",
        "      <td><strong>4</strong></td>\n",
        "      <td> 0</td>\n",
        "      <td> 3</td>\n",
        "      <td>                            Allen, Mr. William Henry</td>\n",
        "      <td>   male</td>\n",
        "      <td> 35</td>\n",
        "      <td> 0</td>\n",
        "      <td> 0</td>\n",
        "      <td>           373450</td>\n",
        "      <td>  8.0500</td>\n",
        "      <td>  NaN</td>\n",
        "      <td> S</td>\n",
        "    </tr>\n",
        "  </tbody>\n",
        "</table>\n",
        "</div>"
       ],
       "output_type": "pyout",
       "prompt_number": 11,
       "text": [
        "   survived  pclass                                                 name     sex  age  sibsp  parch            ticket     fare cabin embarked\n",
        "0         0       3                              Braund, Mr. Owen Harris    male   22      1      0         A/5 21171   7.2500   NaN        S\n",
        "1         1       1  Cumings, Mrs. John Bradley (Florence Briggs Thayer)  female   38      1      0          PC 17599  71.2833   C85        C\n",
        "2         1       3                               Heikkinen, Miss. Laina  female   26      0      0  STON/O2. 3101282   7.9250   NaN        S\n",
        "3         1       1         Futrelle, Mrs. Jacques Heath (Lily May Peel)  female   35      1      0            113803  53.1000  C123        S\n",
        "4         0       3                             Allen, Mr. William Henry    male   35      0      0            373450   8.0500   NaN        S"
       ]
      }
     ],
     "prompt_number": 11
    },
    {
     "cell_type": "code",
     "collapsed": false,
     "input": [
      "#divide passangers by women and men\n",
      "women = df_passangers[df_passangers.sex == 'female']\n",
      "women_age = women[['survived','age']] \n",
      "ws = women_age[women_age.survived == 1]\n",
      "wns = women_age[women_age.survived == 0]\n",
      "\n",
      "men = df_passangers[df_passangers.sex == 'male']\n",
      "men_age = men[['survived','age']]\n",
      "ms = men_age[men_age.survived == 1]\n",
      "mns = men_age[men_age.survived == 0]"
     ],
     "language": "python",
     "metadata": {},
     "outputs": [],
     "prompt_number": 12
    },
    {
     "cell_type": "code",
     "collapsed": false,
     "input": [
      "print 'Total of passangers:\\t' + str(df_passangers.survived.count()) + '\\t'\n",
      "print 'Survived passangers:\\t' + str(df_passangers[df_passangers.survived == 1].survived.count()) + '\\n'\n",
      "print 'Total of women:\\t' + str(women.survived.count()) + '\\t'\n",
      "print 'Survived women:\\t' + str(ws.survived.count()) + '\\n'\n",
      "print 'Total of men:\\t' + str(men.survived.count()) + '\\t'\n",
      "print 'Survived men:\\t' + str(ms.survived.count()) + '\\n'\n",
      "#print 'Big Table:\\t' + str(big_table.columns)"
     ],
     "language": "python",
     "metadata": {},
     "outputs": [
      {
       "output_type": "stream",
       "stream": "stdout",
       "text": [
        "Total of passangers:\t891\t\n",
        "Survived passangers:\t342\n",
        "\n",
        "Total of women:\t314\t\n",
        "Survived women:\t233\n",
        "\n",
        "Total of men:\t577\t\n",
        "Survived men:\t109\n",
        "\n"
       ]
      }
     ],
     "prompt_number": 13
    },
    {
     "cell_type": "code",
     "collapsed": false,
     "input": [
      "#SUPERVIVENCIA POR EDAD\n",
      "\n",
      "# create a figure with 2 subplots\n",
      "f, (ax1, ax2) = subplots(1,2, sharey=True)\n",
      "f.set_size_inches(18,7)\n",
      "\n",
      "#plot indexed by age survived men and women\n",
      "ws['age'].hist(bins = range(0,70+10,5), color='blue', alpha=0.75, label='Survived', ax=ax1)\n",
      "wns['age'].hist(bins = range(0,70+10,5), color='red', alpha=0.5, label='Not survived', ax=ax1)\n",
      "ms['age'].hist(bins = range(0,70+10,5), color='blue', alpha=0.75, label='Survived', ax=ax2)\n",
      "mns['age'].hist(bins = range(0,70+10,5), color='yellow', alpha=0.5, label='Not survived', ax=ax2)\n",
      "\n",
      "#labels\n",
      "ax1.set_title(\"Histogram of women survived vS not-survived grouped by age\")\n",
      "ax1.set_ylabel(\"Number of women\")\n",
      "ax1.set_xlabel(\"Age\")\n",
      "ax1.legend()\n",
      "ax2.set_title(\"Histogram of men survived vS not-survived grouped by age\")\n",
      "ax2.set_ylabel(\"Number of men\")\n",
      "ax2.set_xlabel(\"Age\")\n",
      "ax2.legend()"
     ],
     "language": "python",
     "metadata": {},
     "outputs": [
      {
       "output_type": "pyout",
       "prompt_number": 14,
       "text": [
        "<matplotlib.legend.Legend at 0xadacf2c>"
       ]
      },
      {
       "output_type": "display_data",
       "png": "[encoded data removed]"
      }
     ],
     "prompt_number": 14
    },
    {
     "cell_type": "code",
     "collapsed": false,
     "input": [
      "#SUPERVIVENCIA POR CLASE (pclass)\n",
      "\n",
      "women_pclass = women[['survived','pclass']] \n",
      "ws = women_pclass[women_pclass.survived == 1]\n",
      "wns = women_pclass[women_pclass.survived == 0]\n",
      "\n",
      "men_pclass = men[['survived','pclass']]\n",
      "ms = men_pclass[men_pclass.survived == 1]\n",
      "mns = men_pclass[men_pclass.survived == 0]"
     ],
     "language": "python",
     "metadata": {},
     "outputs": [],
     "prompt_number": 15
    },
    {
     "cell_type": "code",
     "collapsed": false,
     "input": [
      "f, (ax1, ax2) = subplots(1,2, sharey=True)\n",
      "f.set_size_inches(18,7)\n",
      "\n",
      "#women plot (left) -------------------------------------\n",
      "\n",
      "# count each occurance in the 'pclass' column\n",
      "# [::-1] to order from 1 to 3rd class\n",
      "ws_counts = ws['pclass'].value_counts()[::-1]\n",
      "wns_counts = wns['pclass'].value_counts()[::-1]\n",
      "\n",
      "plt = ws_counts.plot(kind='bar', color='blue', label='Survived', alpha=0.5, ax=ax1)\n",
      "plt1 = wns_counts.plot(kind='bar', color='red', label='Not Survived', alpha=0.5, ax=ax1)\n",
      "\n",
      "# decorate the plot and axis with text\n",
      "ax1.set_title(\"Women survived Vs not-survived by passanger class\")\n",
      "ax1.set_ylabel(\"Women\")\n",
      "ax1.set_xlabel(\"Passanger class\")\n",
      "ax1.legend(loc='upper left')\n",
      "\n",
      "# add some labels to each bar\n",
      "for x, y in enumerate(ws_counts):\n",
      "    plt.text(x + 0.55, y + 10, '%.f' % y, ha='left', va= 'top')\n",
      "\n",
      "for x, y in enumerate(wns_counts):\n",
      "    plt1.text(x + 0.55, y + 10, '%.f' % y, ha='left', va= 'top')\n",
      "\n",
      "\n",
      "#men plot (right) -------------------------------------\n",
      "\n",
      "ms_counts = ms['pclass'].value_counts()[::-1]\n",
      "mns_counts = mns['pclass'].value_counts()[::-1]\n",
      "\n",
      "plt = ms_counts.plot(kind='bar', color='blue', label='Survived', ax=ax2)\n",
      "plt1 = mns_counts.plot(kind='bar', color='yellow', label='Not Survived', alpha=0.5, ax=ax2)\n",
      "\n",
      "# decorate the plot and axis with text\n",
      "ax2.set_title(\"Men survived Vs not-survived by passanger class\")\n",
      "ax2.set_ylabel(\"Men\")\n",
      "ax2.set_xlabel(\"Passanger class\")\n",
      "ax2.legend(loc='upper left')\n",
      "\n",
      "# add some labels to each bar\n",
      "for x, y in enumerate(ms_counts):\n",
      "    plt.text(x + 0.55, y + 10, '%.f' % y, ha='left', va= 'top')\n",
      "\n",
      "for x, y in enumerate(mns_counts):\n",
      "    plt1.text(x + 0.55, y - 5, '%.f' % y, ha='left', va= 'top')"
     ],
     "language": "python",
     "metadata": {},
     "outputs": [
      {
       "output_type": "display_data",
       "png": "[encoded data removed]"
      }
     ],
     "prompt_number": 16
    },
    {
     "cell_type": "code",
     "collapsed": false,
     "input": [
      "#it's feasible to think that fare and passanger class will be related, so we can might apply a PCA to reduce 1 dimensionality\n",
      "\n",
      "#fare statistics\n",
      "df_passangers['fare'].describe()"
     ],
     "language": "python",
     "metadata": {},
     "outputs": [
      {
       "output_type": "pyout",
       "prompt_number": 17,
       "text": [
        "count    891.000000\n",
        "mean      32.204208\n",
        "std       49.693429\n",
        "min        0.000000\n",
        "25%        7.910400\n",
        "50%       14.454200\n",
        "75%       31.000000\n",
        "max      512.329200"
       ]
      }
     ],
     "prompt_number": 17
    },
    {
     "cell_type": "code",
     "collapsed": false,
     "input": [
      "#fare statistics for 1st class\n",
      "df_passangers[df_passangers['pclass'] == 1]['fare'].describe()"
     ],
     "language": "python",
     "metadata": {},
     "outputs": [
      {
       "output_type": "pyout",
       "prompt_number": 19,
       "text": [
        "count    216.000000\n",
        "mean      84.154687\n",
        "std       78.380373\n",
        "min        0.000000\n",
        "25%       30.923950\n",
        "50%       60.287500\n",
        "75%       93.500000\n",
        "max      512.329200"
       ]
      }
     ],
     "prompt_number": 19
    },
    {
     "cell_type": "code",
     "collapsed": false,
     "input": [
      "#fare statistics for 2nd class\n",
      "df_passangers[df_passangers['pclass'] == 2]['fare'].describe()"
     ],
     "language": "python",
     "metadata": {},
     "outputs": [
      {
       "output_type": "pyout",
       "prompt_number": 20,
       "text": [
        "count    184.000000\n",
        "mean      20.662183\n",
        "std       13.417399\n",
        "min        0.000000\n",
        "25%       13.000000\n",
        "50%       14.250000\n",
        "75%       26.000000\n",
        "max       73.500000"
       ]
      }
     ],
     "prompt_number": 20
    },
    {
     "cell_type": "code",
     "collapsed": false,
     "input": [
      "#fare statistics for 3rd class\n",
      "df_passangers[df_passangers['pclass'] == 3]['fare'].describe()"
     ],
     "language": "python",
     "metadata": {},
     "outputs": [
      {
       "output_type": "pyout",
       "prompt_number": 21,
       "text": [
        "count    491.000000\n",
        "mean      13.675550\n",
        "std       11.778142\n",
        "min        0.000000\n",
        "25%        7.750000\n",
        "50%        8.050000\n",
        "75%       15.500000\n",
        "max       69.550000"
       ]
      }
     ],
     "prompt_number": 21
    },
    {
     "cell_type": "code",
     "collapsed": false,
     "input": [
      "#we might consider the max price of 1st class as an outlier\n",
      "\n",
      "# create a matplotlib figure with size [15,7]\n",
      "figure(figsize=[12,5])\n",
      "p = plot(df_passangers['fare'],df_passangers['pclass'],'ro')\n",
      "title(\"Fare vS passanger class\")\n",
      "ylabel(\"Passanger class\")\n",
      "xlabel(\"Fare\")\n",
      "ylim(0,4)\n",
      "xlim(0,280)"
     ],
     "language": "python",
     "metadata": {},
     "outputs": [
      {
       "output_type": "pyout",
       "prompt_number": 22,
       "text": [
        "(0, 280)"
       ]
      },
      {
       "output_type": "display_data",
       "png": "[encoded data removed]"
      }
     ],
     "prompt_number": 22
    },
    {
     "cell_type": "code",
     "collapsed": false,
     "input": [
      "#supervivencia por ciudad de embarque\n",
      "women_embarked = women[['survived','embarked']] \n",
      "ws = women_embarked[women_embarked.survived == 1]\n",
      "wns = women_embarked[women_embarked.survived == 0]\n",
      "\n",
      "men_embarked = men[['survived','embarked']]\n",
      "ms = men_embarked[men_embarked.survived == 1]\n",
      "mns = men_embarked[men_embarked.survived == 0]"
     ],
     "language": "python",
     "metadata": {},
     "outputs": [],
     "prompt_number": 23
    },
    {
     "cell_type": "code",
     "collapsed": false,
     "input": [
      "f, (ax1, ax2) = subplots(1,2, sharey=True)\n",
      "f.set_size_inches(18,7)\n",
      "\n",
      "#women plot (left) -------------------------------------\n",
      "\n",
      "# count each occurance in the 'pclass' column\n",
      "ws_counts = ws['embarked'].value_counts()\n",
      "wns_counts = wns['embarked'].value_counts()\n",
      "\n",
      "plt = ws_counts.plot(kind='bar', color='blue', label='Survived', alpha=0.5, ax=ax1)\n",
      "plt1 = wns_counts.plot(kind='bar', color='red', label='Not Survived', alpha=0.5, ax=ax1)\n",
      "\n",
      "# decorate the plot and axis with text\n",
      "ax1.set_title(\"Women survived Vs not-survived by embarked city\")\n",
      "ax1.set_ylabel(\"Women\")\n",
      "ax1.set_xlabel(\"Embarked city\")\n",
      "ax1.legend(loc='upper left')\n",
      "\n",
      "# add some labels to each bar\n",
      "for x, y in enumerate(ws_counts):\n",
      "    plt.text(x + 0.55, y + 10, '%.f' % y, ha='left', va= 'top')\n",
      "\n",
      "for x, y in enumerate(wns_counts):\n",
      "    plt1.text(x + 0.55, y + 10, '%.f' % y, ha='left', va= 'top')\n",
      "\n",
      "\n",
      "#men plot (right) -------------------------------------\n",
      "\n",
      "ms_counts = ms['embarked'].value_counts()\n",
      "mns_counts = mns['embarked'].value_counts()\n",
      "\n",
      "plt = ms_counts.plot(kind='bar', color='blue', label='Survived', ax=ax2)\n",
      "plt1 = mns_counts.plot(kind='bar', color='yellow', label='Not Survived', alpha=0.5, ax=ax2)\n",
      "\n",
      "# decorate the plot and axis with text\n",
      "ax2.set_title(\"Men survived Vs not-survived by embarked city\")\n",
      "ax2.set_ylabel(\"Men\")\n",
      "ax2.set_xlabel(\"Embarked city\")\n",
      "ax2.legend(loc='upper right')\n",
      "\n",
      "# add some labels to each bar\n",
      "for x, y in enumerate(ms_counts):\n",
      "    plt.text(x + 0.55, y + 10, '%.f' % y, ha='left', va= 'top')\n",
      "\n",
      "for x, y in enumerate(mns_counts):\n",
      "    plt1.text(x + 0.55, y - 5, '%.f' % y, ha='left', va= 'top')"
     ],
     "language": "python",
     "metadata": {},
     "outputs": [
      {
       "output_type": "display_data",
       "png": "[encoded data removed]"
      }
     ],
     "prompt_number": 24
    },
    {
     "cell_type": "heading",
     "level": 3,
     "metadata": {},
     "source": [
      "Resumen"
     ]
    },
    {
     "cell_type": "raw",
     "metadata": {},
     "source": [
      "- Si eres mujer tienes 233/314 de sobrevivir\n",
      "- Si eres hombre tienes 109/577 de sobrevivir\n",
      "- Los hombres < 10 a\u00f1os son los \u00fanicos con mayor probabilidad de sobrevivir que de morir\n",
      "- Parece existir cierta relaci\u00f3n entre el precio de los billetes y la clase del pasaje\n",
      "- Los pasajeros que embarcaron en Q son los que menos probabilidad tienen de sobrevivir"
     ]
    },
    {
     "cell_type": "heading",
     "level": 3,
     "metadata": {},
     "source": [
      "Machine Learning"
     ]
    },
    {
     "cell_type": "raw",
     "metadata": {},
     "source": [
      "Buscamos calcular si los pasajeros sobrevivieron o no al hundimiento, por lo tanto queremos utilizar un clasificador:\n",
      "- Logistic regression\n",
      "- Neural network\n",
      "- Support Vector Maching (SVM): Linear or Gaussian kernel\n",
      "- Decission trees (Na\u00efve Bayes, Random Forest)\n",
      "\n",
      "Antes, convertiremos las variables categ\u00f3ricas en num\u00e9ricas y dividiremos el training set en dos grupos, para poder validar nuestros resultados y as\u00ed decidir qu\u00e9 algoritmo ha funcionado mejor.\n",
      "\n",
      "Y revisamos si hay alg\u00fan valor NaN, cambi\u00e1ndolo porque nos dar\u00e1 errores en el uso de los algoritmos"
     ]
    },
    {
     "cell_type": "code",
     "collapsed": false,
     "input": [
      "df_passangers.describe()"
     ],
     "language": "python",
     "metadata": {},
     "outputs": [
      {
       "html": [
        "<div style=\"max-height:1000px;max-width:1500px;overflow:auto;\">\n",
        "<table border=\"1\">\n",
        "  <thead>\n",
        "    <tr>\n",
        "      <th></th>\n",
        "      <th>survived</th>\n",
        "      <th>pclass</th>\n",
        "      <th>age</th>\n",
        "      <th>sibsp</th>\n",
        "      <th>parch</th>\n",
        "      <th>fare</th>\n",
        "    </tr>\n",
        "    </thead>\n",
        "    <tbody>\n",
        "    <tr>\n",
        "      <td><strong>count</strong></td>\n",
        "      <td> 891.000000</td>\n",
        "      <td> 891.000000</td>\n",
        "      <td> 714.000000</td>\n",
        "      <td> 891.000000</td>\n",
        "      <td> 891.000000</td>\n",
        "      <td> 891.000000</td>\n",
        "    </tr>\n",
        "    <tr>\n",
        "      <td><strong>mean</strong></td>\n",
        "      <td>   0.383838</td>\n",
        "      <td>   2.308642</td>\n",
        "      <td>  29.699118</td>\n",
        "      <td>   0.523008</td>\n",
        "      <td>   0.381594</td>\n",
        "      <td>  32.204208</td>\n",
        "    </tr>\n",
        "    <tr>\n",
        "      <td><strong>std</strong></td>\n",
        "      <td>   0.486592</td>\n",
        "      <td>   0.836071</td>\n",
        "      <td>  14.526497</td>\n",
        "      <td>   1.102743</td>\n",
        "      <td>   0.806057</td>\n",
        "      <td>  49.693429</td>\n",
        "    </tr>\n",
        "    <tr>\n",
        "      <td><strong>min</strong></td>\n",
        "      <td>   0.000000</td>\n",
        "      <td>   1.000000</td>\n",
        "      <td>   0.420000</td>\n",
        "      <td>   0.000000</td>\n",
        "      <td>   0.000000</td>\n",
        "      <td>   0.000000</td>\n",
        "    </tr>\n",
        "    <tr>\n",
        "      <td><strong>25%</strong></td>\n",
        "      <td>   0.000000</td>\n",
        "      <td>   2.000000</td>\n",
        "      <td>  20.125000</td>\n",
        "      <td>   0.000000</td>\n",
        "      <td>   0.000000</td>\n",
        "      <td>   7.910400</td>\n",
        "    </tr>\n",
        "    <tr>\n",
        "      <td><strong>50%</strong></td>\n",
        "      <td>   0.000000</td>\n",
        "      <td>   3.000000</td>\n",
        "      <td>  28.000000</td>\n",
        "      <td>   0.000000</td>\n",
        "      <td>   0.000000</td>\n",
        "      <td>  14.454200</td>\n",
        "    </tr>\n",
        "    <tr>\n",
        "      <td><strong>75%</strong></td>\n",
        "      <td>   1.000000</td>\n",
        "      <td>   3.000000</td>\n",
        "      <td>  38.000000</td>\n",
        "      <td>   1.000000</td>\n",
        "      <td>   0.000000</td>\n",
        "      <td>  31.000000</td>\n",
        "    </tr>\n",
        "    <tr>\n",
        "      <td><strong>max</strong></td>\n",
        "      <td>   1.000000</td>\n",
        "      <td>   3.000000</td>\n",
        "      <td>  80.000000</td>\n",
        "      <td>   8.000000</td>\n",
        "      <td>   6.000000</td>\n",
        "      <td> 512.329200</td>\n",
        "    </tr>\n",
        "  </tbody>\n",
        "</table>\n",
        "</div>"
       ],
       "output_type": "pyout",
       "prompt_number": 17,
       "text": [
        "         survived      pclass         age       sibsp       parch        fare\n",
        "count  891.000000  891.000000  714.000000  891.000000  891.000000  891.000000\n",
        "mean     0.383838    2.308642   29.699118    0.523008    0.381594   32.204208\n",
        "std      0.486592    0.836071   14.526497    1.102743    0.806057   49.693429\n",
        "min      0.000000    1.000000    0.420000    0.000000    0.000000    0.000000\n",
        "25%      0.000000    2.000000   20.125000    0.000000    0.000000    7.910400\n",
        "50%      0.000000    3.000000   28.000000    0.000000    0.000000   14.454200\n",
        "75%      1.000000    3.000000   38.000000    1.000000    0.000000   31.000000\n",
        "max      1.000000    3.000000   80.000000    8.000000    6.000000  512.329200"
       ]
      }
     ],
     "prompt_number": 17
    },
    {
     "cell_type": "code",
     "collapsed": false,
     "input": [
      "#change categorical to numerical values, in order to not change the original set, we make a copy\n",
      "passangers_n = df_passangers.copy()\n",
      "passangers_n.describe()"
     ],
     "language": "python",
     "metadata": {},
     "outputs": [
      {
       "html": [
        "<div style=\"max-height:1000px;max-width:1500px;overflow:auto;\">\n",
        "<table border=\"1\">\n",
        "  <thead>\n",
        "    <tr>\n",
        "      <th></th>\n",
        "      <th>survived</th>\n",
        "      <th>pclass</th>\n",
        "      <th>age</th>\n",
        "      <th>sibsp</th>\n",
        "      <th>parch</th>\n",
        "      <th>fare</th>\n",
        "    </tr>\n",
        "    </thead>\n",
        "    <tbody>\n",
        "    <tr>\n",
        "      <td><strong>count</strong></td>\n",
        "      <td> 891.000000</td>\n",
        "      <td> 891.000000</td>\n",
        "      <td> 714.000000</td>\n",
        "      <td> 891.000000</td>\n",
        "      <td> 891.000000</td>\n",
        "      <td> 891.000000</td>\n",
        "    </tr>\n",
        "    <tr>\n",
        "      <td><strong>mean</strong></td>\n",
        "      <td>   0.383838</td>\n",
        "      <td>   2.308642</td>\n",
        "      <td>  29.699118</td>\n",
        "      <td>   0.523008</td>\n",
        "      <td>   0.381594</td>\n",
        "      <td>  32.204208</td>\n",
        "    </tr>\n",
        "    <tr>\n",
        "      <td><strong>std</strong></td>\n",
        "      <td>   0.486592</td>\n",
        "      <td>   0.836071</td>\n",
        "      <td>  14.526497</td>\n",
        "      <td>   1.102743</td>\n",
        "      <td>   0.806057</td>\n",
        "      <td>  49.693429</td>\n",
        "    </tr>\n",
        "    <tr>\n",
        "      <td><strong>min</strong></td>\n",
        "      <td>   0.000000</td>\n",
        "      <td>   1.000000</td>\n",
        "      <td>   0.420000</td>\n",
        "      <td>   0.000000</td>\n",
        "      <td>   0.000000</td>\n",
        "      <td>   0.000000</td>\n",
        "    </tr>\n",
        "    <tr>\n",
        "      <td><strong>25%</strong></td>\n",
        "      <td>   0.000000</td>\n",
        "      <td>   2.000000</td>\n",
        "      <td>  20.125000</td>\n",
        "      <td>   0.000000</td>\n",
        "      <td>   0.000000</td>\n",
        "      <td>   7.910400</td>\n",
        "    </tr>\n",
        "    <tr>\n",
        "      <td><strong>50%</strong></td>\n",
        "      <td>   0.000000</td>\n",
        "      <td>   3.000000</td>\n",
        "      <td>  28.000000</td>\n",
        "      <td>   0.000000</td>\n",
        "      <td>   0.000000</td>\n",
        "      <td>  14.454200</td>\n",
        "    </tr>\n",
        "    <tr>\n",
        "      <td><strong>75%</strong></td>\n",
        "      <td>   1.000000</td>\n",
        "      <td>   3.000000</td>\n",
        "      <td>  38.000000</td>\n",
        "      <td>   1.000000</td>\n",
        "      <td>   0.000000</td>\n",
        "      <td>  31.000000</td>\n",
        "    </tr>\n",
        "    <tr>\n",
        "      <td><strong>max</strong></td>\n",
        "      <td>   1.000000</td>\n",
        "      <td>   3.000000</td>\n",
        "      <td>  80.000000</td>\n",
        "      <td>   8.000000</td>\n",
        "      <td>   6.000000</td>\n",
        "      <td> 512.329200</td>\n",
        "    </tr>\n",
        "  </tbody>\n",
        "</table>\n",
        "</div>"
       ],
       "output_type": "pyout",
       "prompt_number": 25,
       "text": [
        "         survived      pclass         age       sibsp       parch        fare\n",
        "count  891.000000  891.000000  714.000000  891.000000  891.000000  891.000000\n",
        "mean     0.383838    2.308642   29.699118    0.523008    0.381594   32.204208\n",
        "std      0.486592    0.836071   14.526497    1.102743    0.806057   49.693429\n",
        "min      0.000000    1.000000    0.420000    0.000000    0.000000    0.000000\n",
        "25%      0.000000    2.000000   20.125000    0.000000    0.000000    7.910400\n",
        "50%      0.000000    3.000000   28.000000    0.000000    0.000000   14.454200\n",
        "75%      1.000000    3.000000   38.000000    1.000000    0.000000   31.000000\n",
        "max      1.000000    3.000000   80.000000    8.000000    6.000000  512.329200"
       ]
      }
     ],
     "prompt_number": 25
    },
    {
     "cell_type": "code",
     "collapsed": false,
     "input": [
      "#I've just chose the following notation\n",
      "#sex: male = 1, female = 0\n",
      "ind = passangers_n['sex'].index[passangers_n['sex'] == 'male']\n",
      "passangers_n.ix[ind,'sex'] = 1\n",
      "ind1 = passangers_n['sex'].index[passangers_n['sex'] == 'female']\n",
      "passangers_n.ix[ind1,'sex'] = 0\n",
      "#embarked: S = 1, C = 2, Q = 3\n",
      "ind = passangers_n['embarked'].index[passangers_n['embarked'] == 'S']\n",
      "ind1 = passangers_n['embarked'].index[passangers_n['embarked'] == 'C']\n",
      "ind2 = passangers_n['embarked'].index[passangers_n['embarked'] == 'Q']\n",
      "passangers_n.ix[ind,'embarked'] = 1\n",
      "passangers_n.ix[ind1,'embarked'] = 2\n",
      "passangers_n.ix[ind2,'embarked'] = 3\n",
      "passangers_n.head()"
     ],
     "language": "python",
     "metadata": {},
     "outputs": [
      {
       "html": [
        "<div style=\"max-height:1000px;max-width:1500px;overflow:auto;\">\n",
        "<table border=\"1\">\n",
        "  <thead>\n",
        "    <tr>\n",
        "      <th></th>\n",
        "      <th>survived</th>\n",
        "      <th>pclass</th>\n",
        "      <th>name</th>\n",
        "      <th>sex</th>\n",
        "      <th>age</th>\n",
        "      <th>sibsp</th>\n",
        "      <th>parch</th>\n",
        "      <th>ticket</th>\n",
        "      <th>fare</th>\n",
        "      <th>cabin</th>\n",
        "      <th>embarked</th>\n",
        "    </tr>\n",
        "    </thead>\n",
        "    <tbody>\n",
        "    <tr>\n",
        "      <td><strong>0</strong></td>\n",
        "      <td> 0</td>\n",
        "      <td> 3</td>\n",
        "      <td>                             Braund, Mr. Owen Harris</td>\n",
        "      <td> 1</td>\n",
        "      <td> 22</td>\n",
        "      <td> 1</td>\n",
        "      <td> 0</td>\n",
        "      <td>        A/5 21171</td>\n",
        "      <td>  7.2500</td>\n",
        "      <td>  NaN</td>\n",
        "      <td> 1</td>\n",
        "    </tr>\n",
        "    <tr>\n",
        "      <td><strong>1</strong></td>\n",
        "      <td> 1</td>\n",
        "      <td> 1</td>\n",
        "      <td> Cumings, Mrs. John Bradley (Florence Briggs Thayer)</td>\n",
        "      <td> 0</td>\n",
        "      <td> 38</td>\n",
        "      <td> 1</td>\n",
        "      <td> 0</td>\n",
        "      <td>         PC 17599</td>\n",
        "      <td> 71.2833</td>\n",
        "      <td>  C85</td>\n",
        "      <td> 2</td>\n",
        "    </tr>\n",
        "    <tr>\n",
        "      <td><strong>2</strong></td>\n",
        "      <td> 1</td>\n",
        "      <td> 3</td>\n",
        "      <td>                              Heikkinen, Miss. Laina</td>\n",
        "      <td> 0</td>\n",
        "      <td> 26</td>\n",
        "      <td> 0</td>\n",
        "      <td> 0</td>\n",
        "      <td> STON/O2. 3101282</td>\n",
        "      <td>  7.9250</td>\n",
        "      <td>  NaN</td>\n",
        "      <td> 1</td>\n",
        "    </tr>\n",
        "    <tr>\n",
        "      <td><strong>3</strong></td>\n",
        "      <td> 1</td>\n",
        "      <td> 1</td>\n",
        "      <td>        Futrelle, Mrs. Jacques Heath (Lily May Peel)</td>\n",
        "      <td> 0</td>\n",
        "      <td> 35</td>\n",
        "      <td> 1</td>\n",
        "      <td> 0</td>\n",
        "      <td>           113803</td>\n",
        "      <td> 53.1000</td>\n",
        "      <td> C123</td>\n",
        "      <td> 1</td>\n",
        "    </tr>\n",
        "    <tr>\n",
        "      <td><strong>4</strong></td>\n",
        "      <td> 0</td>\n",
        "      <td> 3</td>\n",
        "      <td>                            Allen, Mr. William Henry</td>\n",
        "      <td> 1</td>\n",
        "      <td> 35</td>\n",
        "      <td> 0</td>\n",
        "      <td> 0</td>\n",
        "      <td>           373450</td>\n",
        "      <td>  8.0500</td>\n",
        "      <td>  NaN</td>\n",
        "      <td> 1</td>\n",
        "    </tr>\n",
        "  </tbody>\n",
        "</table>\n",
        "</div>"
       ],
       "output_type": "pyout",
       "prompt_number": 26,
       "text": [
        "   survived  pclass                                                 name sex  age  sibsp  parch            ticket     fare cabin embarked\n",
        "0         0       3                              Braund, Mr. Owen Harris   1   22      1      0         A/5 21171   7.2500   NaN        1\n",
        "1         1       1  Cumings, Mrs. John Bradley (Florence Briggs Thayer)   0   38      1      0          PC 17599  71.2833   C85        2\n",
        "2         1       3                               Heikkinen, Miss. Laina   0   26      0      0  STON/O2. 3101282   7.9250   NaN        1\n",
        "3         1       1         Futrelle, Mrs. Jacques Heath (Lily May Peel)   0   35      1      0            113803  53.1000  C123        1\n",
        "4         0       3                             Allen, Mr. William Henry   1   35      0      0            373450   8.0500   NaN        1"
       ]
      }
     ],
     "prompt_number": 26
    },
    {
     "cell_type": "code",
     "collapsed": false,
     "input": [
      "#select the features we want to use and divide data from result (x,y)\n",
      "x_pass = passangers_n[['pclass','sex','age','sibsp','parch','fare','embarked']]\n",
      "#x_pass = passangers_n[['pclass','sex','age','fare','embarked']]\n",
      "y_pass = passangers_n[['survived']]\n",
      "y_pass.describe()\n",
      "df_passangers[['survived']].describe()\n",
      "df_passangers.head()"
     ],
     "language": "python",
     "metadata": {},
     "outputs": [
      {
       "html": [
        "<div style=\"max-height:1000px;max-width:1500px;overflow:auto;\">\n",
        "<table border=\"1\">\n",
        "  <thead>\n",
        "    <tr>\n",
        "      <th></th>\n",
        "      <th>survived</th>\n",
        "      <th>pclass</th>\n",
        "      <th>name</th>\n",
        "      <th>sex</th>\n",
        "      <th>age</th>\n",
        "      <th>sibsp</th>\n",
        "      <th>parch</th>\n",
        "      <th>ticket</th>\n",
        "      <th>fare</th>\n",
        "      <th>cabin</th>\n",
        "      <th>embarked</th>\n",
        "    </tr>\n",
        "    </thead>\n",
        "    <tbody>\n",
        "    <tr>\n",
        "      <td><strong>0</strong></td>\n",
        "      <td> 0</td>\n",
        "      <td> 3</td>\n",
        "      <td>                             Braund, Mr. Owen Harris</td>\n",
        "      <td>   male</td>\n",
        "      <td> 22</td>\n",
        "      <td> 1</td>\n",
        "      <td> 0</td>\n",
        "      <td>        A/5 21171</td>\n",
        "      <td>  7.2500</td>\n",
        "      <td>  NaN</td>\n",
        "      <td> S</td>\n",
        "    </tr>\n",
        "    <tr>\n",
        "      <td><strong>1</strong></td>\n",
        "      <td> 1</td>\n",
        "      <td> 1</td>\n",
        "      <td> Cumings, Mrs. John Bradley (Florence Briggs Thayer)</td>\n",
        "      <td> female</td>\n",
        "      <td> 38</td>\n",
        "      <td> 1</td>\n",
        "      <td> 0</td>\n",
        "      <td>         PC 17599</td>\n",
        "      <td> 71.2833</td>\n",
        "      <td>  C85</td>\n",
        "      <td> C</td>\n",
        "    </tr>\n",
        "    <tr>\n",
        "      <td><strong>2</strong></td>\n",
        "      <td> 1</td>\n",
        "      <td> 3</td>\n",
        "      <td>                              Heikkinen, Miss. Laina</td>\n",
        "      <td> female</td>\n",
        "      <td> 26</td>\n",
        "      <td> 0</td>\n",
        "      <td> 0</td>\n",
        "      <td> STON/O2. 3101282</td>\n",
        "      <td>  7.9250</td>\n",
        "      <td>  NaN</td>\n",
        "      <td> S</td>\n",
        "    </tr>\n",
        "    <tr>\n",
        "      <td><strong>3</strong></td>\n",
        "      <td> 1</td>\n",
        "      <td> 1</td>\n",
        "      <td>        Futrelle, Mrs. Jacques Heath (Lily May Peel)</td>\n",
        "      <td> female</td>\n",
        "      <td> 35</td>\n",
        "      <td> 1</td>\n",
        "      <td> 0</td>\n",
        "      <td>           113803</td>\n",
        "      <td> 53.1000</td>\n",
        "      <td> C123</td>\n",
        "      <td> S</td>\n",
        "    </tr>\n",
        "    <tr>\n",
        "      <td><strong>4</strong></td>\n",
        "      <td> 0</td>\n",
        "      <td> 3</td>\n",
        "      <td>                            Allen, Mr. William Henry</td>\n",
        "      <td>   male</td>\n",
        "      <td> 35</td>\n",
        "      <td> 0</td>\n",
        "      <td> 0</td>\n",
        "      <td>           373450</td>\n",
        "      <td>  8.0500</td>\n",
        "      <td>  NaN</td>\n",
        "      <td> S</td>\n",
        "    </tr>\n",
        "  </tbody>\n",
        "</table>\n",
        "</div>"
       ],
       "output_type": "pyout",
       "prompt_number": 27,
       "text": [
        "   survived  pclass                                                 name     sex  age  sibsp  parch            ticket     fare cabin embarked\n",
        "0         0       3                              Braund, Mr. Owen Harris    male   22      1      0         A/5 21171   7.2500   NaN        S\n",
        "1         1       1  Cumings, Mrs. John Bradley (Florence Briggs Thayer)  female   38      1      0          PC 17599  71.2833   C85        C\n",
        "2         1       3                               Heikkinen, Miss. Laina  female   26      0      0  STON/O2. 3101282   7.9250   NaN        S\n",
        "3         1       1         Futrelle, Mrs. Jacques Heath (Lily May Peel)  female   35      1      0            113803  53.1000  C123        S\n",
        "4         0       3                             Allen, Mr. William Henry    male   35      0      0            373450   8.0500   NaN        S"
       ]
      }
     ],
     "prompt_number": 27
    },
    {
     "cell_type": "code",
     "collapsed": false,
     "input": [
      "ind1 = x_pass['embarked'].index[isNaN(x_pass['embarked'])]\n",
      "len(ind1) #2 passangers without embarked city set\n",
      "\n",
      "#let's assign the most 1 = S = Southampton because is where more passangers embarked\n",
      "for i in ind1:\n",
      "    x_pass.ix[i,'embarked'] = 1"
     ],
     "language": "python",
     "metadata": {},
     "outputs": [],
     "prompt_number": 30
    },
    {
     "cell_type": "code",
     "collapsed": false,
     "input": [
      "#fix missing data on age field\n",
      "def isNaN(num):\n",
      "    return num != num\n",
      "\n",
      "ind = x_pass['age'].index[isNaN(x_pass['age'])]\n",
      "print len(ind) #177 passangers without age set\n",
      "\n",
      "ind1 = x_pass['age'].index[isNaN(x_pass['age']) == False]\n",
      "print len(ind1)\n",
      "\n",
      "wm = women.age.mean()\n",
      "mm = men.age.mean()\n",
      "\n",
      "#print 'Women age mean:' + str(wm) + '\\n'\n",
      "#print 'Men age mean:' + str(mm)\n",
      "\n",
      "#let's assign the mean for the NaN values depending if it's women or men\n",
      "#for i in ind:\n",
      "#    if x_pass.ix[i]['sex'] == 1:\n",
      "#        x_pass.ix[i,'age'] = mm\n",
      "#    else:\n",
      "#        x_pass.ix[i,'age'] = wm"
     ],
     "language": "python",
     "metadata": {},
     "outputs": [
      {
       "output_type": "stream",
       "stream": "stdout",
       "text": [
        "177\n",
        "714\n"
       ]
      }
     ],
     "prompt_number": 29
    },
    {
     "cell_type": "code",
     "collapsed": false,
     "input": [
      "#create 2 sets, depending if the age appears or not\n",
      "x_pass_noage = x_pass.ix[ind]\n",
      "x_pass_noage = x_pass_noage[['pclass','sex','sibsp','parch','fare','embarked']]\n",
      "y_pass_noage = y_pass.ix[ind]\n",
      "\n",
      "x_pass_age = x_pass.ix[ind1]\n",
      "y_pass_age = y_pass.ix[ind1]"
     ],
     "language": "python",
     "metadata": {},
     "outputs": [],
     "prompt_number": 689
    },
    {
     "cell_type": "code",
     "collapsed": false,
     "input": [
      "#training and cross validation sets. The data doesn't have any order, so we don't need to randomize it before splitting\n",
      "#x_train = x_pass[0:623]\n",
      "#y_train = y_pass[0:623]\n",
      "#x_cv = x_pass[624:]\n",
      "#y_cv = y_pass[624:]"
     ],
     "language": "python",
     "metadata": {},
     "outputs": [],
     "prompt_number": 606
    },
    {
     "cell_type": "code",
     "collapsed": false,
     "input": [
      "x_pass_age.shape #714,7\n",
      "x_pass_noage.shape #177,6"
     ],
     "language": "python",
     "metadata": {},
     "outputs": [
      {
       "output_type": "pyout",
       "prompt_number": 664,
       "text": [
        "(177, 6)"
       ]
      }
     ],
     "prompt_number": 664
    },
    {
     "cell_type": "code",
     "collapsed": false,
     "input": [
      "x_train_age = x_pass_age[0:500]\n",
      "y_train_age = y_pass_age[0:500]\n",
      "x_cv_age = x_pass_age[501:]\n",
      "y_cv_age = y_pass_age[501:]\n",
      "x_train_noage = x_pass_noage[0:124]\n",
      "y_train_noage = y_pass_noage[0:124]\n",
      "x_cv_noage = x_pass_noage[125:]\n",
      "y_cv_noage = y_pass_noage[125:]"
     ],
     "language": "python",
     "metadata": {},
     "outputs": [],
     "prompt_number": 690
    },
    {
     "cell_type": "heading",
     "level": 3,
     "metadata": {},
     "source": [
      "Logistic regression"
     ]
    },
    {
     "cell_type": "raw",
     "metadata": {},
     "source": [
      "For logistic regression, we want to optimize the cost function J, minimizing theta parameters"
     ]
    },
    {
     "cell_type": "code",
     "collapsed": false,
     "input": [
      "from sklearn import datasets, linear_model"
     ],
     "language": "python",
     "metadata": {},
     "outputs": [],
     "prompt_number": 72
    },
    {
     "cell_type": "code",
     "collapsed": false,
     "input": [
      "reg_model = linear_model.LinearRegression()\n",
      "reg_model.fit(x_train,y_train)"
     ],
     "language": "python",
     "metadata": {},
     "outputs": [
      {
       "output_type": "pyout",
       "prompt_number": 73,
       "text": [
        "LinearRegression(copy_X=True, fit_intercept=True, normalize=False)"
       ]
      }
     ],
     "prompt_number": 73
    },
    {
     "cell_type": "code",
     "collapsed": false,
     "input": [
      "predictions = reg_model.predict(x_cv)"
     ],
     "language": "python",
     "metadata": {},
     "outputs": [],
     "prompt_number": 74
    },
    {
     "cell_type": "code",
     "collapsed": false,
     "input": [
      "aux = predictions[:,0]\n",
      "pred = np.zeros(len(y_cv))\n",
      "for i in range(0,len(y_cv)-1):\n",
      "    pred[i] = round(aux[i])"
     ],
     "language": "python",
     "metadata": {},
     "outputs": [],
     "prompt_number": 75
    },
    {
     "cell_type": "code",
     "collapsed": false,
     "input": [
      "result = pred == y_cv\n",
      "correct = sum(result[0])\n",
      "perc = round((correct/float(len(y_cv)))*100, 3)"
     ],
     "language": "python",
     "metadata": {},
     "outputs": [],
     "prompt_number": 76
    },
    {
     "cell_type": "code",
     "collapsed": false,
     "input": [
      "print('From a total of ' + str(len(y_cv)) + ' samples, we get ' + str(correct) + ' correct predictions this is a '\n",
      "+ str(perc) + '%')"
     ],
     "language": "python",
     "metadata": {},
     "outputs": [
      {
       "output_type": "stream",
       "stream": "stdout",
       "text": [
        "From a total of 267 samples, we get 187 correct predictions this is a 70.037%\n"
       ]
      }
     ],
     "prompt_number": 77
    },
    {
     "cell_type": "code",
     "collapsed": false,
     "input": [
      "#now we need to apply the model to the test set\n",
      "#first of all we need to fix missing and wrong data\n",
      "test = root_dir + 'test.csv'\n",
      "\n",
      "# load each file into a Pandas DataFrame, pandas automatically converts the first line into a header for the columns\n",
      "df_pas = pd.read_csv(test)\n",
      "\n",
      "# inspect the first 10 rows of the DataFrame\n",
      "x_test = df_pas[['pclass','sex','age','sibsp','parch','fare','embarked']]\n",
      "#x_test = df_pas[['pclass','sex','age','fare','embarked']]\n",
      "#missing data on age and 1 fare\n",
      "ind = x_test['age'].index[isNaN(x_test['age'])]\n",
      "ind.shape"
     ],
     "language": "python",
     "metadata": {},
     "outputs": [
      {
       "output_type": "pyout",
       "prompt_number": 35,
       "text": [
        "(86,)"
       ]
      }
     ],
     "prompt_number": 35
    },
    {
     "cell_type": "code",
     "collapsed": false,
     "input": [
      "#I've just chose the following notation\n",
      "#sex: male = 1, female = 0\n",
      "ind = x_test['sex'].index[x_test['sex'] == 'male']\n",
      "x_test.ix[ind,'sex'] = 1\n",
      "ind1 = x_test['sex'].index[x_test['sex'] == 'female']\n",
      "x_test.ix[ind1,'sex'] = 0\n",
      "\n",
      "#embarked: S = 1, C = 2, Q = 3\n",
      "ind = x_test['embarked'].index[x_test['embarked'] == 'S']\n",
      "ind1 = x_test['embarked'].index[x_test['embarked'] == 'C']\n",
      "ind2 = x_test['embarked'].index[x_test['embarked'] == 'Q']\n",
      "x_test.ix[ind,'embarked'] = 1\n",
      "x_test.ix[ind1,'embarked'] = 2\n",
      "x_test.ix[ind2,'embarked'] = 3\n",
      "x_test.head()"
     ],
     "language": "python",
     "metadata": {},
     "outputs": [
      {
       "html": [
        "<div style=\"max-height:1000px;max-width:1500px;overflow:auto;\">\n",
        "<table border=\"1\">\n",
        "  <thead>\n",
        "    <tr>\n",
        "      <th></th>\n",
        "      <th>pclass</th>\n",
        "      <th>sex</th>\n",
        "      <th>age</th>\n",
        "      <th>sibsp</th>\n",
        "      <th>parch</th>\n",
        "      <th>fare</th>\n",
        "      <th>embarked</th>\n",
        "    </tr>\n",
        "    </thead>\n",
        "    <tbody>\n",
        "    <tr>\n",
        "      <td><strong>0</strong></td>\n",
        "      <td> 3</td>\n",
        "      <td> 1</td>\n",
        "      <td> 34.5</td>\n",
        "      <td> 0</td>\n",
        "      <td> 0</td>\n",
        "      <td>  7.8292</td>\n",
        "      <td> 3</td>\n",
        "    </tr>\n",
        "    <tr>\n",
        "      <td><strong>1</strong></td>\n",
        "      <td> 3</td>\n",
        "      <td> 0</td>\n",
        "      <td> 47.0</td>\n",
        "      <td> 1</td>\n",
        "      <td> 0</td>\n",
        "      <td>  7.0000</td>\n",
        "      <td> 1</td>\n",
        "    </tr>\n",
        "    <tr>\n",
        "      <td><strong>2</strong></td>\n",
        "      <td> 2</td>\n",
        "      <td> 1</td>\n",
        "      <td> 62.0</td>\n",
        "      <td> 0</td>\n",
        "      <td> 0</td>\n",
        "      <td>  9.6875</td>\n",
        "      <td> 3</td>\n",
        "    </tr>\n",
        "    <tr>\n",
        "      <td><strong>3</strong></td>\n",
        "      <td> 3</td>\n",
        "      <td> 1</td>\n",
        "      <td> 27.0</td>\n",
        "      <td> 0</td>\n",
        "      <td> 0</td>\n",
        "      <td>  8.6625</td>\n",
        "      <td> 1</td>\n",
        "    </tr>\n",
        "    <tr>\n",
        "      <td><strong>4</strong></td>\n",
        "      <td> 3</td>\n",
        "      <td> 0</td>\n",
        "      <td> 22.0</td>\n",
        "      <td> 1</td>\n",
        "      <td> 1</td>\n",
        "      <td> 12.2875</td>\n",
        "      <td> 1</td>\n",
        "    </tr>\n",
        "  </tbody>\n",
        "</table>\n",
        "</div>"
       ],
       "output_type": "pyout",
       "prompt_number": 707,
       "text": [
        "   pclass sex   age  sibsp  parch     fare embarked\n",
        "0       3   1  34.5      0      0   7.8292        3\n",
        "1       3   0  47.0      1      0   7.0000        1\n",
        "2       2   1  62.0      0      0   9.6875        3\n",
        "3       3   1  27.0      0      0   8.6625        1\n",
        "4       3   0  22.0      1      1  12.2875        1"
       ]
      }
     ],
     "prompt_number": 707
    },
    {
     "cell_type": "code",
     "collapsed": false,
     "input": [
      "ind = x_test['fare'].index[isNaN(x_test['fare'])]\n",
      "x_test.ix[ind] #passanger from 3rd class\n",
      "x_test.ix[ind,'fare'] = 13.675550 #mean value of fare for 3rd class"
     ],
     "language": "python",
     "metadata": {},
     "outputs": [],
     "prompt_number": 708
    },
    {
     "cell_type": "code",
     "collapsed": false,
     "input": [
      "wm1 = x_test[x_test.sex == 0].age.mean()\n",
      "mm1 = x_test[x_test.sex == 1].age.mean()\n",
      "\n",
      "wm_t = (wm + wm1)/2\n",
      "mm_t = (mm + mm1)/2"
     ],
     "language": "python",
     "metadata": {},
     "outputs": [],
     "prompt_number": 709
    },
    {
     "cell_type": "code",
     "collapsed": false,
     "input": [
      "#fix missing age data\n",
      "\n",
      "ind = x_test['age'].index[isNaN(x_test['age'])]\n",
      "\n",
      "#let's assign the mean for the NaN values depending if it's women or men\n",
      "for i in ind:\n",
      "    if x_test.ix[i]['sex'] == 1:\n",
      "        x_test.ix[i,'age'] = mm_t\n",
      "    else:\n",
      "        x_test.ix[i,'age'] = wm_t"
     ],
     "language": "python",
     "metadata": {},
     "outputs": [],
     "prompt_number": 710
    },
    {
     "cell_type": "code",
     "collapsed": false,
     "input": [
      "#x_test[['pclass','sex','age','sibsp','parch','fare','embarked']].describe()\n",
      "x_test.head()"
     ],
     "language": "python",
     "metadata": {},
     "outputs": [
      {
       "html": [
        "<div style=\"max-height:1000px;max-width:1500px;overflow:auto;\">\n",
        "<table border=\"1\">\n",
        "  <thead>\n",
        "    <tr>\n",
        "      <th></th>\n",
        "      <th>pclass</th>\n",
        "      <th>sex</th>\n",
        "      <th>age</th>\n",
        "      <th>sibsp</th>\n",
        "      <th>parch</th>\n",
        "      <th>fare</th>\n",
        "      <th>embarked</th>\n",
        "    </tr>\n",
        "    </thead>\n",
        "    <tbody>\n",
        "    <tr>\n",
        "      <td><strong>0</strong></td>\n",
        "      <td> 3</td>\n",
        "      <td> 1</td>\n",
        "      <td> 34.5</td>\n",
        "      <td> 0</td>\n",
        "      <td> 0</td>\n",
        "      <td>  7.8292</td>\n",
        "      <td> 3</td>\n",
        "    </tr>\n",
        "    <tr>\n",
        "      <td><strong>1</strong></td>\n",
        "      <td> 3</td>\n",
        "      <td> 0</td>\n",
        "      <td> 47.0</td>\n",
        "      <td> 1</td>\n",
        "      <td> 0</td>\n",
        "      <td>  7.0000</td>\n",
        "      <td> 1</td>\n",
        "    </tr>\n",
        "    <tr>\n",
        "      <td><strong>2</strong></td>\n",
        "      <td> 2</td>\n",
        "      <td> 1</td>\n",
        "      <td> 62.0</td>\n",
        "      <td> 0</td>\n",
        "      <td> 0</td>\n",
        "      <td>  9.6875</td>\n",
        "      <td> 3</td>\n",
        "    </tr>\n",
        "    <tr>\n",
        "      <td><strong>3</strong></td>\n",
        "      <td> 3</td>\n",
        "      <td> 1</td>\n",
        "      <td> 27.0</td>\n",
        "      <td> 0</td>\n",
        "      <td> 0</td>\n",
        "      <td>  8.6625</td>\n",
        "      <td> 1</td>\n",
        "    </tr>\n",
        "    <tr>\n",
        "      <td><strong>4</strong></td>\n",
        "      <td> 3</td>\n",
        "      <td> 0</td>\n",
        "      <td> 22.0</td>\n",
        "      <td> 1</td>\n",
        "      <td> 1</td>\n",
        "      <td> 12.2875</td>\n",
        "      <td> 1</td>\n",
        "    </tr>\n",
        "  </tbody>\n",
        "</table>\n",
        "</div>"
       ],
       "output_type": "pyout",
       "prompt_number": 711,
       "text": [
        "   pclass sex   age  sibsp  parch     fare embarked\n",
        "0       3   1  34.5      0      0   7.8292        3\n",
        "1       3   0  47.0      1      0   7.0000        1\n",
        "2       2   1  62.0      0      0   9.6875        3\n",
        "3       3   1  27.0      0      0   8.6625        1\n",
        "4       3   0  22.0      1      1  12.2875        1"
       ]
      }
     ],
     "prompt_number": 711
    },
    {
     "cell_type": "code",
     "collapsed": false,
     "input": [
      "#all the data is completed, let's apply the logistic regression model\n",
      "predictions1 = reg_model.predict(x_test)\n",
      "aux1 = predictions1[:,0]\n",
      "pred1 = np.zeros(len(x_test['age']))\n",
      "for i in range(0,len(x_test['age'])-1):\n",
      "    pred1[i] = round(aux1[i])"
     ],
     "language": "python",
     "metadata": {},
     "outputs": [],
     "prompt_number": 85
    },
    {
     "cell_type": "code",
     "collapsed": false,
     "input": [
      "#create a new file adding the predicted value\n",
      "import csv as csv\n",
      "\n",
      "open_file_object = csv.writer(open('csv/logistic_regression.csv', 'wb'))\n",
      "test_file_object = csv.reader(open('csv/test.csv', 'rb')) #Load in the csv file\n",
      "\n",
      "test_file_object.next()\n",
      "i = 0\n",
      "for row in test_file_object:\n",
      "    row.insert(0,pred1[i].astype(np.uint8))\n",
      "    open_file_object.writerow(row)\n",
      "    i += 1\n",
      "print i"
     ],
     "language": "python",
     "metadata": {},
     "outputs": [
      {
       "output_type": "stream",
       "stream": "stdout",
       "text": [
        "418\n"
       ]
      }
     ],
     "prompt_number": 558
    },
    {
     "cell_type": "code",
     "collapsed": false,
     "input": [
      "#implement my own logistic regression algorithm\n",
      "import math \n",
      "\n",
      "def substract(a,b):\n",
      "    aux = zeros(len(a))\n",
      "    for i in range(0,len(aux)):\n",
      "        aux[i] = a[i] - b[i][0]\n",
      "    return aux\n",
      "    \n",
      "def sigmoid(z):\n",
      "    g = zeros(len(z))\n",
      "    for i in range(0,len(z)):\n",
      "        g[i] = 1/(1 + math.exp(-z[i]))\n",
      "    return g\n",
      "\n",
      "def costFunction(X,y,theta):\n",
      "    y_t = y.transpose()\n",
      "    m = X.shape[0]\n",
      "    J = 1/m * ( ( dot(-y_t,log(sigmoid(X.dot(theta)))) ) - ( dot( (1-y_t),log(1 - sigmoid(X.dot(theta))) ) ) )\n",
      "    #h = sigmoid(X.dot(theta))\n",
      "    #aux = substract(h,y)\n",
      "    #grad = 1/m * (dot(aux.transpose(),X)).transpose()\n",
      "    #return J,grad\n",
      "    return J"
     ],
     "language": "python",
     "metadata": {},
     "outputs": [],
     "prompt_number": 559
    },
    {
     "cell_type": "code",
     "collapsed": false,
     "input": [
      "def gradientDescent(X, y, theta, alpha, num_iters):\n",
      "    m = len(y);  #number of training examples\n",
      "    J_history = zeros(num_iters)\n",
      "    for it in range(0,num_iters):\n",
      "        theta_temp = zeros(len(theta))\n",
      "        for j in range(0,len(theta)):\n",
      "            h = sigmoid(X.dot(theta))\n",
      "            aux = substract(h,y).transpose()\n",
      "            theta_temp[j] = theta[j] - (alpha/m) * aux.dot(X[:,j])\n",
      "        theta = theta_temp\n",
      "        J_history[it] = costFunction(X, y, theta)\n",
      "    return theta"
     ],
     "language": "python",
     "metadata": {},
     "outputs": [],
     "prompt_number": 560
    },
    {
     "cell_type": "code",
     "collapsed": false,
     "input": [
      "def addOnesColumn(df,ind=None):\n",
      "    m,n = df.shape\n",
      "    if ind is not None:\n",
      "        ones = DataFrame(np.ones(m),index = ind)\n",
      "    else:\n",
      "        ones = DataFrame(np.ones(m))\n",
      "    return pd.merge(ones, df, left_index=True, right_index=True, how='outer')"
     ],
     "language": "python",
     "metadata": {},
     "outputs": [],
     "prompt_number": 561
    },
    {
     "cell_type": "code",
     "collapsed": false,
     "input": [
      "#X = addOnesColumn(x_train)\n",
      "#X = X.values\n",
      "#X_cv = addOnesColumn(x_cv,x_cv.index) #passing indexes to create ones df starting on the same row position\n",
      "#X_cv = X_cv.values"
     ],
     "language": "python",
     "metadata": {},
     "outputs": [],
     "prompt_number": 607
    },
    {
     "cell_type": "code",
     "collapsed": false,
     "input": [
      "X_age = addOnesColumn(x_train_age,x_train_age.index)\n",
      "X_age = X_age.values\n",
      "X_age_cv = addOnesColumn(x_cv_age,x_cv_age.index) #passing indexes to create ones df starting on the same row position\n",
      "X_age_cv = X_age_cv.values"
     ],
     "language": "python",
     "metadata": {},
     "outputs": [],
     "prompt_number": 682
    },
    {
     "cell_type": "code",
     "collapsed": false,
     "input": [
      "X_noage = addOnesColumn(x_train_noage,x_train_noage.index)\n",
      "X_noage = X_noage.values\n",
      "X_noage_cv = addOnesColumn(x_cv_noage,x_cv_noage.index) #passing indexes to create ones df starting on the same row position\n",
      "X_noage_cv = X_noage_cv.values"
     ],
     "language": "python",
     "metadata": {},
     "outputs": [],
     "prompt_number": 691
    },
    {
     "cell_type": "code",
     "collapsed": false,
     "input": [
      "#theta = np.zeros(X.shape[1]); #initialize fitting parameters. size n+1 for including theta0\n",
      "theta_age = np.zeros(X_age.shape[1])\n",
      "theta_noage = np.zeros(X_noage.shape[1])\n",
      "iterations = 1500;\n",
      "alpha = 0.05;"
     ],
     "language": "python",
     "metadata": {},
     "outputs": [],
     "prompt_number": 683
    },
    {
     "cell_type": "code",
     "collapsed": false,
     "input": [
      "#y = y_train.values\n",
      "y_age = y_train_age.values\n",
      "y_noage = y_train_noage.values"
     ],
     "language": "python",
     "metadata": {},
     "outputs": [],
     "prompt_number": 692
    },
    {
     "cell_type": "code",
     "collapsed": false,
     "input": [
      "#theta = gradientDescent(X, y, theta, alpha, iterations)\n",
      "theta_age = gradientDescent(X_age, y_age, theta_age, alpha, iterations)\n",
      "theta_age"
     ],
     "language": "python",
     "metadata": {},
     "outputs": [
      {
       "output_type": "pyout",
       "prompt_number": 685,
       "text": [
        "array([ 0.80295655, -0.75482569, -6.33493364, -0.29634675, -2.59377829,\n",
        "       -0.27782641, -0.22992721,  1.74382081])"
       ]
      }
     ],
     "prompt_number": 685
    },
    {
     "cell_type": "code",
     "collapsed": false,
     "input": [
      "theta_noage = gradientDescent(X_noage, y_noage, theta_noage, alpha, iterations)\n",
      "theta_noage"
     ],
     "language": "python",
     "metadata": {},
     "outputs": [
      {
       "output_type": "pyout",
       "prompt_number": 693,
       "text": [
        "array([ 0.07978311, -0.83401393, -4.43461325, -1.85350264, -0.93293295,\n",
        "        0.29458971,  1.39855793])"
       ]
      }
     ],
     "prompt_number": 693
    },
    {
     "cell_type": "code",
     "collapsed": false,
     "input": [
      "#predictions = sigmoid(X_cv.dot(theta))\n",
      "#pred = np.zeros(len(predictions))\n",
      "#for i in range(0,len(pred)):\n",
      "#    pred[i] = round(predictions[i])\n",
      "#result = pred == y_cv\n",
      "#correct = sum(result[0])\n",
      "#round( (correct / float(len(y_cv)) )*100, 3)\n",
      "#print correct\n",
      "#print len(y_cv)"
     ],
     "language": "python",
     "metadata": {},
     "outputs": [],
     "prompt_number": 611
    },
    {
     "cell_type": "code",
     "collapsed": false,
     "input": [
      "predictions_age = sigmoid(X_age_cv.dot(theta_age))\n",
      "pred_age = np.zeros(len(predictions_age))\n",
      "for i in range(0,len(pred_age)):\n",
      "    pred_age[i] = round(predictions_age[i])\n",
      "result = pred_age == y_cv_age\n",
      "correct = sum(result[0])\n",
      "round( (correct / float(len(y_cv_age)) )*100, 3)\n",
      "print correct"
     ],
     "language": "python",
     "metadata": {},
     "outputs": [
      {
       "output_type": "stream",
       "stream": "stdout",
       "text": [
        "213\n"
       ]
      }
     ],
     "prompt_number": 688
    },
    {
     "cell_type": "code",
     "collapsed": false,
     "input": [
      "predictions_noage = sigmoid(X_noage_cv.dot(theta_noage))\n",
      "pred_noage = np.zeros(len(predictions_noage))\n",
      "for i in range(0,len(pred_noage)):\n",
      "    pred_noage[i] = round(predictions_noage[i])\n",
      "result = pred_noage == y_cv_noage\n",
      "correct = sum(result[0])\n",
      "round( (correct / float(len(y_cv_age)) )*100, 3)\n",
      "#print correct\n",
      "#X_noage.shape"
     ],
     "language": "python",
     "metadata": {},
     "outputs": [
      {
       "output_type": "pyout",
       "prompt_number": 698,
       "text": [
        "14.554"
       ]
      }
     ],
     "prompt_number": 698
    },
    {
     "cell_type": "code",
     "collapsed": false,
     "input": [
      "x_test.shape"
     ],
     "language": "python",
     "metadata": {},
     "outputs": [
      {
       "output_type": "pyout",
       "prompt_number": 713,
       "text": [
        "(418, 7)"
       ]
      }
     ],
     "prompt_number": 713
    },
    {
     "cell_type": "code",
     "collapsed": false,
     "input": [
      "x_test = df_pas[['pclass','sex','age','sibsp','parch','fare','embarked']]\n",
      "X_test = addOnesColumn(x_test)\n",
      "X_test = X_test.values\n",
      "X_test.shape\n"
     ],
     "language": "python",
     "metadata": {},
     "outputs": [
      {
       "ename": "NameError",
       "evalue": "name 'df_pas' is not defined",
       "output_type": "pyerr",
       "traceback": [
        "\u001b[0;31m---------------------------------------------------------------------------\u001b[0m\n\u001b[0;31mNameError\u001b[0m                                 Traceback (most recent call last)",
        "\u001b[0;32m<ipython-input-1-4c32695e7e11>\u001b[0m in \u001b[0;36m<module>\u001b[0;34m()\u001b[0m\n\u001b[0;32m----> 1\u001b[0;31m \u001b[0mx_test\u001b[0m \u001b[0;34m=\u001b[0m \u001b[0mdf_pas\u001b[0m\u001b[0;34m[\u001b[0m\u001b[0;34m[\u001b[0m\u001b[0;34m'pclass'\u001b[0m\u001b[0;34m,\u001b[0m\u001b[0;34m'sex'\u001b[0m\u001b[0;34m,\u001b[0m\u001b[0;34m'age'\u001b[0m\u001b[0;34m,\u001b[0m\u001b[0;34m'sibsp'\u001b[0m\u001b[0;34m,\u001b[0m\u001b[0;34m'parch'\u001b[0m\u001b[0;34m,\u001b[0m\u001b[0;34m'fare'\u001b[0m\u001b[0;34m,\u001b[0m\u001b[0;34m'embarked'\u001b[0m\u001b[0;34m]\u001b[0m\u001b[0;34m]\u001b[0m\u001b[0;34m\u001b[0m\u001b[0m\n\u001b[0m\u001b[1;32m      2\u001b[0m \u001b[0mX_test\u001b[0m \u001b[0;34m=\u001b[0m \u001b[0maddOnesColumn\u001b[0m\u001b[0;34m(\u001b[0m\u001b[0mx_test\u001b[0m\u001b[0;34m)\u001b[0m\u001b[0;34m\u001b[0m\u001b[0m\n\u001b[1;32m      3\u001b[0m \u001b[0mX_test\u001b[0m \u001b[0;34m=\u001b[0m \u001b[0mX_test\u001b[0m\u001b[0;34m.\u001b[0m\u001b[0mvalues\u001b[0m\u001b[0;34m\u001b[0m\u001b[0m\n\u001b[1;32m      4\u001b[0m \u001b[0mX_test\u001b[0m\u001b[0;34m.\u001b[0m\u001b[0mshape\u001b[0m\u001b[0;34m\u001b[0m\u001b[0m\n",
        "\u001b[0;31mNameError\u001b[0m: name 'df_pas' is not defined"
       ]
      }
     ],
     "prompt_number": 1
    },
    {
     "cell_type": "code",
     "collapsed": false,
     "input": [
      "X_test = addOnesColumn(x_test)\n",
      "X_test = X_test.values\n",
      "\n",
      "predictions = sigmoid(X_test.dot(theta_age))\n",
      "pred = np.zeros(len(predictions))\n",
      "for i in range(0,len(pred)):\n",
      "    pred[i] = round(predictions[i])\n",
      "print pred.shape"
     ],
     "language": "python",
     "metadata": {},
     "outputs": [
      {
       "output_type": "stream",
       "stream": "stdout",
       "text": [
        "(418,)\n"
       ]
      }
     ],
     "prompt_number": 717
    },
    {
     "cell_type": "code",
     "collapsed": false,
     "input": [
      "#load the result into the file\n",
      "#create a new file adding the predicted value\n",
      "import csv as csv\n",
      "\n",
      "open_file_object = csv.writer(open('csv/logistic_regression_agetrain.csv', 'wb'))\n",
      "test_file_object = csv.reader(open('csv/test.csv', 'rb')) #Load in the csv file\n",
      "\n",
      "test_file_object.next()\n",
      "i = 0\n",
      "for row in test_file_object:\n",
      "    row.insert(0,pred[i].astype(np.uint8))\n",
      "    open_file_object.writerow(row)\n",
      "    i += 1\n",
      "print i"
     ],
     "language": "python",
     "metadata": {},
     "outputs": [
      {
       "output_type": "stream",
       "stream": "stdout",
       "text": [
        "418\n"
       ]
      }
     ],
     "prompt_number": 718
    },
    {
     "cell_type": "heading",
     "level": 3,
     "metadata": {},
     "source": [
      "Random Forest"
     ]
    },
    {
     "cell_type": "code",
     "collapsed": false,
     "input": [
      "# Import the random forest package\n",
      "from sklearn.ensemble import RandomForestClassifier \n",
      "\n",
      "# Create the random forest object which will include all the parameters\n",
      "# for the fit\n",
      "forest = RandomForestClassifier(n_estimators = 100)\n",
      "\n",
      "# Fit the training data to the training output and create the decision\n",
      "# trees\n",
      "forest = forest.fit(x_train,y_train)\n",
      "\n",
      "# Take the same decision trees and run on the test data\n",
      "output = forest.predict(x_cv)"
     ],
     "language": "python",
     "metadata": {},
     "outputs": [],
     "prompt_number": 311
    },
    {
     "cell_type": "code",
     "collapsed": false,
     "input": [
      "aux = output[:]\n",
      "result = aux == y_cv\n",
      "correct = sum(result[0])\n",
      "perc = round((correct/float(len(y_cv)))*100, 3)"
     ],
     "language": "python",
     "metadata": {},
     "outputs": [],
     "prompt_number": 312
    },
    {
     "cell_type": "code",
     "collapsed": false,
     "input": [
      "print('From a total of ' + str(len(y_cv)) + ' samples, we get ' + str(correct) + ' correct predictions this is a '\n",
      "+ str(perc) + '%')"
     ],
     "language": "python",
     "metadata": {},
     "outputs": [
      {
       "output_type": "stream",
       "stream": "stdout",
       "text": [
        "From a total of 267 samples, we get 172 correct predictions this is a 64.419%\n"
       ]
      }
     ],
     "prompt_number": 313
    },
    {
     "cell_type": "code",
     "collapsed": false,
     "input": [],
     "language": "python",
     "metadata": {},
     "outputs": []
    }
   ],
   "metadata": {}
  }
 ]
}